{
 "cells": [
  {
   "cell_type": "code",
   "execution_count": 1,
   "id": "346fc12c",
   "metadata": {},
   "outputs": [],
   "source": [
    "import networkx as nx\n",
    "import matplotlib.pyplot as plt\n",
    "import pandas as pd\n",
    "\n"
   ]
  },
  {
   "cell_type": "code",
   "execution_count": 2,
   "id": "dd0bc03f",
   "metadata": {},
   "outputs": [],
   "source": [
    "def add_family_tree(graph, parent, generation, max_generation, order, reverse=False):\n",
    "    if generation > max_generation:\n",
    "        return order\n",
    "\n",
    "    children = df[df['Parent'] == parent]['Child'].tolist()\n",
    "    if reverse and generation <= 2:\n",
    "        children.reverse()\n",
    "\n",
    "    for child in children:\n",
    "        graph.add_edge(parent, child)\n",
    "        order = add_family_tree(graph, child, generation + 1, max_generation, order, reverse)\n",
    "\n",
    "    graph.nodes[parent]['generation'] = generation\n",
    "    graph.nodes[parent]['order'] = order\n",
    "    return order + 1"
   ]
  },
  {
   "cell_type": "code",
   "execution_count": 5,
   "id": "70739249",
   "metadata": {},
   "outputs": [],
   "source": [
    "df = pd.read_csv('Family.csv')\n"
   ]
  },
  {
   "cell_type": "code",
   "execution_count": 6,
   "id": "5a127e15",
   "metadata": {},
   "outputs": [],
   "source": [
    "max_generation = df['Generation'].max()\n"
   ]
  },
  {
   "cell_type": "code",
   "execution_count": 7,
   "id": "ecb41ce8",
   "metadata": {},
   "outputs": [],
   "source": [
    "family_tree = nx.DiGraph()\n"
   ]
  },
  {
   "cell_type": "code",
   "execution_count": 8,
   "id": "485cb46c",
   "metadata": {},
   "outputs": [],
   "source": [
    "root_node = 'Root'\n",
    "family_tree.add_node(root_node)"
   ]
  },
  {
   "cell_type": "code",
   "execution_count": 9,
   "id": "84836945",
   "metadata": {},
   "outputs": [
    {
     "data": {
      "text/plain": [
       "8"
      ]
     },
     "execution_count": 9,
     "metadata": {},
     "output_type": "execute_result"
    }
   ],
   "source": [
    "add_family_tree(family_tree, root_node, 1, max_generation, 1, True)\n"
   ]
  },
  {
   "cell_type": "code",
   "execution_count": 10,
   "id": "6e0874fd",
   "metadata": {},
   "outputs": [],
   "source": [
    "positions = {}\n",
    "for node in family_tree.nodes:\n",
    "    positions[node] = (family_tree.nodes[node].get('generation', 0), -family_tree.nodes[node].get('order', 0))"
   ]
  },
  {
   "cell_type": "code",
   "execution_count": 11,
   "id": "62f2b57b",
   "metadata": {},
   "outputs": [
    {
     "data": {
      "text/plain": [
       "(-0.31500000000000006, 3.315, -7.734999999999999, 0.7350000000000001)"
      ]
     },
     "execution_count": 11,
     "metadata": {},
     "output_type": "execute_result"
    },
    {
     "data": {
      "image/png": "[encoded data removed]",
      "text/plain": [
       "<Figure size 576x576 with 1 Axes>"
      ]
     },
     "metadata": {},
     "output_type": "display_data"
    }
   ],
   "source": [
    "plt.figure(figsize=(8, 8))\n",
    "nx.draw(family_tree, pos=positions, with_labels=True, node_size=2000, font_size=10, node_shape='s', node_color='lightblue', edge_color='gray')\n",
    "plt.axis('off')\n"
   ]
  },
  {
   "cell_type": "code",
   "execution_count": null,
   "id": "2485ddc9",
   "metadata": {},
   "outputs": [],
   "source": []
  }
 ],
 "metadata": {
  "kernelspec": {
   "display_name": "Python 3",
   "language": "python",
   "name": "python3"
  },
  "language_info": {
   "codemirror_mode": {
    "name": "ipython",
    "version": 3
   },
   "file_extension": ".py",
   "mimetype": "text/x-python",
   "name": "python",
   "nbconvert_exporter": "python",
   "pygments_lexer": "ipython3",
   "version": "3.8.8"
  }
 },
 "nbformat": 4,
 "nbformat_minor": 5
}
